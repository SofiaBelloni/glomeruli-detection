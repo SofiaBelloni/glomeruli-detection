{
  "cells": [
    {
      "attachments": {},
      "cell_type": "markdown",
      "metadata": {
        "id": "Igk2_Yxu4Kxa"
      },
      "source": [
        "# Trash"
      ]
    },
    {
      "cell_type": "code",
      "execution_count": 1,
      "metadata": {
        "colab": {
          "base_uri": "https://localhost:8080/"
        },
        "id": "Hs7PLW5HItNC",
        "outputId": "696b43b2-543a-4025-a48c-b218084f729c"
      },
      "outputs": [
        {
          "name": "stdout",
          "output_type": "stream",
          "text": [
            "Mounted at /content/drive\n"
          ]
        }
      ],
      "source": [
        "from google.colab import drive\n",
        "drive.mount('/content/drive')"
      ]
    },
    {
      "cell_type": "code",
      "execution_count": 1,
      "metadata": {
        "id": "uiqcW6JXIqe1"
      },
      "outputs": [],
      "source": [
        "import cv2\n",
        "import glob\n",
        "import numpy as np\n",
        "import matplotlib.pyplot as plt\n",
        "import numpy as np\n",
        "from matplotlib import pyplot as plt\n",
        "import cv2\n",
        "\n",
        "path_to_dataset = \"../dataset/dataset512x512/RECHERCHE-015.npy\"\n",
        "path_to_labels = \"../dataset/dataset512x512/RECHERCHE-015_label.npy\""
      ]
    },
    {
      "attachments": {},
      "cell_type": "markdown",
      "metadata": {
        "id": "PlpdgXii4Kxg"
      },
      "source": [
        "# Extrapolate Glomeruli"
      ]
    },
    {
      "cell_type": "code",
      "execution_count": 2,
      "metadata": {
        "id": "M6XZw2C_4Kxg"
      },
      "outputs": [],
      "source": [
        "dataset = np.load(path_to_dataset)\n",
        "labels = np.load(path_to_labels)"
      ]
    },
    {
      "cell_type": "code",
      "execution_count": 3,
      "metadata": {
        "id": "M5znK2AS4Kxg"
      },
      "outputs": [],
      "source": [
        "# Identification of images and labels with glomerulus\n",
        "glomeruli = np.array([dataset[i] for i in range(len(dataset)) if (1 in labels[i])])\n",
        "glomeruli_labels = np.array([labels[i] for i in range(len(dataset)) if (1 in labels[i])])\n",
        "\n",
        "# Identification of images and labels without glomerulus\n",
        "notGlomeruli = np.array([dataset[i] for i in range(len(dataset)) if not(1 in labels[i])])\n",
        "notGlomeruli_labels = np.array([labels[i] for i in range(len(dataset)) if not(1 in labels[i])])"
      ]
    },
    {
      "cell_type": "code",
      "execution_count": 1,
      "metadata": {
        "id": "ZHNn39sT4Kxg"
      },
      "outputs": [],
      "source": [
        "def glomeruli_crop(glomeruli, glomeruli_labels):\n",
        "    result = []\n",
        "    original_images = []\n",
        "    original_labels = []\n",
        "    result_labels = []\n",
        "    \n",
        "    for j in range(0, len(glomeruli)):\n",
        "        num_labels, labels = cv2.connectedComponents(\n",
        "            glomeruli_labels[j], connectivity=8)\n",
        "        for i in range(1, num_labels):\n",
        "            image = glomeruli[j]\n",
        "            original_image = image.copy()  # Save the original image\n",
        "            original_images.append(original_image)\n",
        "            original_label = labels.copy()  # Save the original label\n",
        "            original_labels.append(original_label)\n",
        "\n",
        "            # Find row and column indices of pixels with value 1\n",
        "            yrow, xcol = np.where(labels == i)\n",
        "\n",
        "            # Calculate minimum and maximum row indices\n",
        "            yrowmin = np.min(yrow)\n",
        "            yrowmax = np.max(yrow)\n",
        "\n",
        "            # Calculate minimum and maximum column indices\n",
        "            xcolmin = np.min(xcol)\n",
        "            xcolmax = np.max(xcol)\n",
        "\n",
        "            # Calculate the size of the side of the square as the max between the height and the width\n",
        "            side = max(yrowmax - yrowmin + 1, xcolmax - xcolmin + 1)\n",
        "            if (side >= 20):\n",
        "                # Adjust the bounding box to be square\n",
        "                yrowmin, yrowmax, xcolmin, xcolmax = adjust_bounding_box(yrowmin, yrowmax, xcolmin, xcolmax, side, image.shape)\n",
        "\n",
        "                # Extract the square image from the original image\n",
        "                cropped_image = image[yrowmin:yrowmax, xcolmin:xcolmax]\n",
        "\n",
        "                # Calculate the proportion of glomerulus pixels in the cropped image\n",
        "                cropped_label = labels[yrowmin:yrowmax, xcolmin:xcolmax] == i\n",
        "                glomerulus_proportion = np.mean(cropped_label)\n",
        "                \n",
        "                # Only keep the image if the glomerulus proportion is above the threshold\n",
        "                if glomerulus_proportion >= 0.4:\n",
        "                    # Resize image\n",
        "                    resized_image = cv2.resize(\n",
        "                        cropped_image, (200, 200), interpolation=cv2.INTER_AREA)\n",
        "                    result.append(resized_image)\n",
        "                    result_labels.append(i)  # Save the label of the cropped image\n",
        "\n",
        "    return np.array(result), np.array(result_labels), np.array(original_images), np.array(original_labels)\n"
      ]
    },
    {
      "cell_type": "code",
      "execution_count": 5,
      "metadata": {
        "id": "hLU41By64Kxh"
      },
      "outputs": [],
      "source": [
        "result, result_label, ori, ori_l = glomeruli_crop(glomeruli, glomeruli_labels)\n"
      ]
    },
    {
      "attachments": {},
      "cell_type": "markdown",
      "metadata": {
        "id": "9WPctVes4Kxh"
      },
      "source": [
        "In questo codice, dopo aver calcolato le dimensioni del lato del quadrato, regoliamo le coordinate minime e massime del bounding box per ottenere una forma quadrata, assicurandoci che il bounding box non esca dai bordi dell'immagine. Infine, estrapoliamo l'immagine quadrata dall'immagine originale."
      ]
    },
    {
      "cell_type": "code",
      "execution_count": 6,
      "metadata": {
        "colab": {
          "base_uri": "https://localhost:8080/"
        },
        "id": "NBeBBXj-4Kxh",
        "outputId": "ddb7b903-489f-4641-9f17-fa37a2db00a1"
      },
      "outputs": [
        {
          "data": {
            "text/plain": [
              "(84, 200, 200)"
            ]
          },
          "execution_count": 6,
          "metadata": {},
          "output_type": "execute_result"
        }
      ],
      "source": [
        "result_label.shape"
      ]
    },
    {
      "cell_type": "code",
      "execution_count": null,
      "metadata": {
        "id": "a8QlJWsy4Kxh"
      },
      "outputs": [],
      "source": [
        "# Save each image in a different file \n",
        "for i in range(0, 20):\n",
        "    plt_image_labels(result[i], result_label[i], ori[i], ori_l[i])\n",
        "    #plt_image(result[i])\n",
        "    #cv2.imwrite(f'image{i}.jpg', result[i])\n"
      ]
    },
    {
      "cell_type": "code",
      "execution_count": 13,
      "metadata": {
        "id": "STUn2S0Y6Hhh"
      },
      "outputs": [],
      "source": [
        "from matplotlib import pyplot as plt\n",
        "import cv2\n",
        "def plt_image(image):\n",
        "    plt.imshow(cv2.cvtColor(image, cv2.COLOR_BGR2RGB))\n",
        "    plt.axis('off')\n",
        "    plt.show()"
      ]
    },
    {
      "cell_type": "code",
      "execution_count": 31,
      "metadata": {},
      "outputs": [],
      "source": [
        "def plt_image(image, labels):\n",
        "\n",
        "    plt.imshow(cv2.cvtColor(image, cv2.COLOR_BGR2RGB))\n",
        "    plt.axis('off')\n",
        "\n",
        "    # Sovrapposizione punti con labels=1\n",
        "    overlay = np.zeros_like(image)\n",
        "    overlay[np.where(labels == 1)] = [128, 128, 0]  # Giallo (BGR)\n",
        "    #overlay[np.where(labels == 0)] = [255, 255, 255]  # Giallo (BGR)\n",
        "    \n",
        "    alpha = 0.8  # Livello di trasparenza\n",
        "    overlay = cv2.addWeighted(image, 1, overlay, alpha, 0)\n",
        "\n",
        "    plt.imshow(overlay)  # Sovrapposizione con trasparenza\n",
        "    plt.show()"
      ]
    },
    {
      "cell_type": "code",
      "execution_count": 8,
      "metadata": {},
      "outputs": [],
      "source": [
        "def plt_image_labels(image, labes, im, lab):\n",
        "    fig, axs = plt.subplots(2, 2)\n",
        "    # Primo subplot: labels\n",
        "    axs[0][0].imshow(labes)\n",
        "    axs[0][0].axis('off')\n",
        "    # Secondo subplot: immagine\n",
        "    axs[0][1].imshow(cv2.cvtColor(image, cv2.COLOR_BGR2RGB))\n",
        "    axs[0][1].axis('off')\n",
        "    # Mostra i subplot affiancati\n",
        "    axs[1][0].imshow(lab)\n",
        "    axs[1][0].axis('off')\n",
        "    # Secondo subplot: immagine\n",
        "    axs[1][1].imshow(cv2.cvtColor(im, cv2.COLOR_BGR2RGB))\n",
        "    axs[1][1].axis('off')\n",
        "    plt.show()"
      ]
    },
    {
      "cell_type": "code",
      "execution_count": null,
      "metadata": {},
      "outputs": [],
      "source": []
    }
  ],
  "metadata": {
    "accelerator": "GPU",
    "colab": {
      "gpuType": "T4",
      "provenance": []
    },
    "kernelspec": {
      "display_name": "Python 3",
      "name": "python3"
    },
    "language_info": {
      "codemirror_mode": {
        "name": "ipython",
        "version": 3
      },
      "file_extension": ".py",
      "mimetype": "text/x-python",
      "name": "python",
      "nbconvert_exporter": "python",
      "pygments_lexer": "ipython3",
      "version": "3.10.10"
    }
  },
  "nbformat": 4,
  "nbformat_minor": 0
}
