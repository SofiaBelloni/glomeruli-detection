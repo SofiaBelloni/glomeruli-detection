{
 "cells": [
  {
   "attachments": {},
   "cell_type": "markdown",
   "metadata": {},
   "source": [
    "# Colab"
   ]
  },
  {
   "cell_type": "code",
   "execution_count": null,
   "metadata": {},
   "outputs": [],
   "source": [
    "!apt update && apt install -y openslide-tools\n",
    "!pip install openslide-python"
   ]
  },
  {
   "attachments": {},
   "cell_type": "markdown",
   "metadata": {},
   "source": [
    "# Locale"
   ]
  },
  {
   "cell_type": "code",
   "execution_count": null,
   "metadata": {},
   "outputs": [],
   "source": [
    "#!pip install openslide-python\n",
    "#!pip install opencv-python"
   ]
  },
  {
   "cell_type": "code",
   "execution_count": 13,
   "metadata": {},
   "outputs": [],
   "source": [
    "import openslide\n",
    "import cv2\n",
    "from matplotlib import pyplot as plt\n",
    "import numpy as np\n",
    "\n",
    "path_to_image=\"path\"\n",
    "output_width = 2000\n",
    "output_height = 2000"
   ]
  },
  {
   "cell_type": "code",
   "execution_count": 15,
   "metadata": {},
   "outputs": [],
   "source": [
    "wsi = openslide.OpenSlide(path_to_image)\n",
    "\n",
    "w, h = wsi.dimensions"
   ]
  },
  {
   "cell_type": "code",
   "execution_count": 23,
   "metadata": {},
   "outputs": [
    {
     "name": "stdout",
     "output_type": "stream",
     "text": [
      "37\n",
      "88\n"
     ]
    }
   ],
   "source": [
    "num_rows = h // output_height\n",
    "num_cols = w // output_width\n",
    "\n",
    "print(num_rows)\n",
    "print(num_cols)"
   ]
  },
  {
   "cell_type": "code",
   "execution_count": 31,
   "metadata": {},
   "outputs": [],
   "source": [
    "def is_mostly_white(image, threshold_w=0.85, threshold_p = 0.98):\n",
    "    # Converti l'immagine in scala di grigi\n",
    "    gray_image = cv2.cvtColor(image, cv2.COLOR_BGR2GRAY)\n",
    "\n",
    "    # Calcola la soglia per considerare i pixel bianchi\n",
    "    pixel_threshold = int(threshold_w * 255)\n",
    "\n",
    "    # Conta i pixel bianchi nell'immagine\n",
    "    white_pixels = np.sum(gray_image >= pixel_threshold)\n",
    "\n",
    "    # Calcola la percentuale di pixel bianchi rispetto alla dimensione totale dell'immagine\n",
    "    white_percentage = white_pixels / (gray_image.shape[0] * gray_image.shape[1])\n",
    "\n",
    "    # Verifica se la percentuale di pixel bianchi supera la soglia\n",
    "    if white_percentage >= threshold_p:\n",
    "        return True, white_percentage\n",
    "    else:\n",
    "        return False, white_percentage"
   ]
  },
  {
   "cell_type": "code",
   "execution_count": null,
   "metadata": {},
   "outputs": [],
   "source": [
    "for row in range(num_rows):\n",
    "    for col in range(num_cols):\n",
    "        # Calcola le coordinate di inizio e fine per l'immagine corrente\n",
    "        x = col * output_width\n",
    "        y = row * output_height\n",
    "        x_end = x + output_width\n",
    "        y_end = y + output_height\n",
    "        \n",
    "        # Estrai l'immagine corrente\n",
    "        region = wsi.read_region((x, y), 0, (output_width, output_height))\n",
    "        \n",
    "        image = cv2.cvtColor(np.array(region), cv2.COLOR_RGBA2BGR)\n",
    "        \n",
    "        is_white, p = is_mostly_white(image)\n",
    "        if not is_white:\n",
    "            print(row, col, is_white, \"percentuale\", p)\n",
    "            plt.imshow(cv2.cvtColor(image, cv2.COLOR_BGR2RGB))\n",
    "            plt.axis('off')\n",
    "            plt.show()"
   ]
  }
 ],
 "metadata": {
  "kernelspec": {
   "display_name": "Python 3",
   "language": "python",
   "name": "python3"
  },
  "language_info": {
   "codemirror_mode": {
    "name": "ipython",
    "version": 3
   },
   "file_extension": ".py",
   "mimetype": "text/x-python",
   "name": "python",
   "nbconvert_exporter": "python",
   "pygments_lexer": "ipython3",
   "version": "3.9.13"
  },
  "orig_nbformat": 4
 },
 "nbformat": 4,
 "nbformat_minor": 2
}
