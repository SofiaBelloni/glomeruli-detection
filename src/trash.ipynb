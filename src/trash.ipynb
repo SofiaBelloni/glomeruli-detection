{
  "cells": [
    {
      "attachments": {},
      "cell_type": "markdown",
      "metadata": {
        "id": "HJDIpn-_8HWj"
      },
      "source": [
        "# Things to install"
      ]
    },
    {
      "attachments": {},
      "cell_type": "markdown",
      "metadata": {
        "id": "WlQ4_fPh8HWm"
      },
      "source": [
        "## Colab"
      ]
    },
    {
      "cell_type": "code",
      "execution_count": null,
      "metadata": {
        "id": "mY1phunv8HWm"
      },
      "outputs": [],
      "source": [
        "!apt update && apt install -y openslide-tools\n",
        "!pip install openslide-python"
      ]
    },
    {
      "cell_type": "code",
      "execution_count": null,
      "metadata": {
        "id": "9xk9yXI5-2_B"
      },
      "outputs": [],
      "source": [
        "from google.colab import drive\n",
        "drive.mount('/content/drive')"
      ]
    },
    {
      "attachments": {},
      "cell_type": "markdown",
      "metadata": {
        "id": "fL9vKIbZ8HWn"
      },
      "source": [
        "## Locale"
      ]
    },
    {
      "cell_type": "code",
      "execution_count": null,
      "metadata": {
        "id": "sXDluubr8HWn"
      },
      "outputs": [],
      "source": [
        "!pip install openslide-python\n",
        "!pip install opencv-python\n",
        "!pip install imgaug\n",
        "!pip install scikit-learn"
      ]
    },
    {
      "cell_type": "code",
      "execution_count": null,
      "metadata": {},
      "outputs": [],
      "source": [
        "!pip install scikit-learn"
      ]
    },
    {
      "cell_type": "code",
      "execution_count": 1,
      "metadata": {
        "id": "e5gSArhj8HWo"
      },
      "outputs": [],
      "source": [
        "# The path can also be read from a config file, etc.\n",
        "OPENSLIDE_PATH = r'C:\\Users\\sofia\\openslide-win64-20230414\\openslide-win64-20230414\\bin'\n",
        "\n",
        "import os\n",
        "if hasattr(os, 'add_dll_directory'):\n",
        "    # Python >= 3.8 on Windows\n",
        "    with os.add_dll_directory(OPENSLIDE_PATH):\n",
        "        import openslide\n",
        "else:\n",
        "    import openslide"
      ]
    },
    {
      "attachments": {},
      "cell_type": "markdown",
      "metadata": {
        "id": "dBKMu2758HWo"
      },
      "source": [
        "# Code"
      ]
    },
    {
      "attachments": {},
      "cell_type": "markdown",
      "metadata": {
        "id": "H7JoVxpH8HWp"
      },
      "source": [
        "## Functions"
      ]
    },
    {
      "cell_type": "code",
      "execution_count": 6,
      "metadata": {
        "id": "QJd8LBBx8HWp"
      },
      "outputs": [],
      "source": [
        "def get_annotatios(file_path):\n",
        "    # Parsa il file XML delle annotazioni\n",
        "    tree = ET.parse(file_path)\n",
        "    root = tree.getroot()\n",
        "    # Ottieni tutte le annotazioni dal file XML\n",
        "    annotations = []\n",
        "    for annotation in root.iter('Annotation'):\n",
        "        name = annotation.get('Name')\n",
        "        coordinates = []\n",
        "        for coordinate in annotation.iter('Coordinate'):\n",
        "            x = float(coordinate.get('X'))\n",
        "            y = float(coordinate.get('Y'))\n",
        "            coordinates.append((x, y))\n",
        "        annotations.append({'name': name, 'coordinates': coordinates})\n",
        "    return annotations\n"
      ]
    },
    {
      "cell_type": "code",
      "execution_count": 7,
      "metadata": {
        "id": "Pif29E768HWp"
      },
      "outputs": [],
      "source": [
        "def is_mostly_white(image, threshold_w=0.85, threshold_p = 0.98):\n",
        "    # Converti l'immagine in scala di grigi\n",
        "    gray_image = cv2.cvtColor(image, cv2.COLOR_BGR2GRAY)\n",
        "\n",
        "    # Calcola la soglia per considerare i pixel bianchi\n",
        "    pixel_threshold = int(threshold_w * 255)\n",
        "\n",
        "    # Conta i pixel bianchi nell'immagine\n",
        "    white_pixels = np.sum(gray_image >= pixel_threshold)\n",
        "\n",
        "    # Calcola la percentuale di pixel bianchi rispetto alla dimensione totale dell'immagine\n",
        "    white_percentage = white_pixels / (gray_image.shape[0] * gray_image.shape[1])\n",
        "\n",
        "    # Verifica se la percentuale di pixel bianchi supera la soglia\n",
        "    if white_percentage >= threshold_p:\n",
        "        return True, white_percentage\n",
        "    else:\n",
        "        return False, white_percentage"
      ]
    },
    {
      "cell_type": "code",
      "execution_count": 8,
      "metadata": {
        "id": "koi-zS_A8HWq"
      },
      "outputs": [],
      "source": [
        "def get_labels(labels, annotations):\n",
        "    for annotation in annotations:\n",
        "        polygon = np.array([annotation['coordinates']], dtype=np.int32)\n",
        "        cv2.fillPoly(labels, polygon, 1)"
      ]
    },
    {
      "cell_type": "code",
      "execution_count": 9,
      "metadata": {
        "id": "FgxYl6Cl8HWq"
      },
      "outputs": [],
      "source": [
        "def plt_image_labels(image, labes):\n",
        "    fig, axs = plt.subplots(1, 2)\n",
        "    # Primo subplot: labels\n",
        "    axs[0].imshow(labes)\n",
        "    axs[0].axis('off')\n",
        "    # Secondo subplot: immagine\n",
        "    axs[1].imshow(cv2.cvtColor(image, cv2.COLOR_BGR2RGB))\n",
        "    axs[1].axis('off')\n",
        "    # Mostra i subplot affiancati\n",
        "    plt.show()"
      ]
    },
    {
      "cell_type": "code",
      "execution_count": 95,
      "metadata": {},
      "outputs": [],
      "source": [
        "def plt_image_image(imageA, imageB):\n",
        "    fig, axs = plt.subplots(1, 2)\n",
        "    # Primo subplot: labels\n",
        "    axs[0].imshow(cv2.cvtColor(imageA, cv2.COLOR_BGR2RGB))\n",
        "    axs[0].axis('off')\n",
        "    axs[0].set_title(\"originale\")\n",
        "    # Secondo subplot: immagine\n",
        "    print(imageB.shape)\n",
        "    axs[1].imshow(cv2.cvtColor(imageB, cv2.COLOR_BGR2RGB))\n",
        "    axs[1].axis('off')\n",
        "    axs[1].set_title(\"modificata\")\n",
        "    # Mostra i subplot affiancati\n",
        "    plt.show()"
      ]
    },
    {
      "cell_type": "code",
      "execution_count": 4,
      "metadata": {},
      "outputs": [],
      "source": [
        "def plt_image(image, labels):\n",
        "\n",
        "    plt.imshow(cv2.cvtColor(image, cv2.COLOR_BGR2RGB))\n",
        "    plt.axis('off')\n",
        "\n",
        "    # Sovrapposizione punti con labels=1\n",
        "    overlay = np.zeros_like(image)\n",
        "    overlay[np.where(labels == 1)] = [128, 128, 0]  # Giallo (BGR)\n",
        "    #overlay[np.where(labels == 0)] = [255, 255, 255]  # Giallo (BGR)\n",
        "    \n",
        "    alpha = 0.8  # Livello di trasparenza\n",
        "    overlay = cv2.addWeighted(image, 1, overlay, alpha, 0)\n",
        "\n",
        "    plt.imshow(overlay)  # Sovrapposizione con trasparenza\n",
        "    plt.show()"
      ]
    },
    {
      "cell_type": "code",
      "execution_count": 5,
      "metadata": {
        "id": "Y9oRPi-S8HWq"
      },
      "outputs": [],
      "source": [
        "def data_augment(image):\n",
        "    image_90 = np.rot90(image)\n",
        "    image_180 = np.rot90(image_90)\n",
        "    image_270 = np.rot90(image_180)\n",
        "    return image_90, image_180, image_270"
      ]
    },
    {
      "attachments": {},
      "cell_type": "markdown",
      "metadata": {
        "id": "mLn-hWYT8HWq"
      },
      "source": [
        "## 'Main'"
      ]
    },
    {
      "cell_type": "code",
      "execution_count": 42,
      "metadata": {
        "id": "Zimbq2v28HWq"
      },
      "outputs": [],
      "source": [
        "# Carica l'immagine svs\n",
        "wsi = openslide.OpenSlide(path_to_image)\n",
        "# Ottieni le dimensioni dell'immagine\n",
        "w, h = wsi.dimensions\n",
        "# Calcola il numero di righe e colonne necessarie per suddividere l'immagine\n",
        "num_rows = h // output_height\n",
        "num_cols = w // output_width"
      ]
    },
    {
      "cell_type": "code",
      "execution_count": 43,
      "metadata": {},
      "outputs": [
        {
          "name": "stdout",
          "output_type": "stream",
          "text": [
            "37 88\n"
          ]
        }
      ],
      "source": [
        "print(num_rows, num_cols)"
      ]
    },
    {
      "cell_type": "code",
      "execution_count": 44,
      "metadata": {
        "id": "SBAVu6Aq8HWq"
      },
      "outputs": [],
      "source": [
        "annotations = get_annotatios(path_to_xml)\n",
        "# Crea un'immagine di output con le stesse dimensioni dell'immagine svs\n",
        "label_image = np.zeros((h, w), dtype=np.uint8)\n",
        "get_labels(label_image, annotations)"
      ]
    },
    {
      "cell_type": "code",
      "execution_count": 57,
      "metadata": {
        "id": "WVRhCQjv8HWr"
      },
      "outputs": [],
      "source": [
        "dataset = []\n",
        "labels = []\n",
        "\n",
        "#for row in range(num_rows):\n",
        "#    for col in range(num_cols):\n",
        "for row in range(3, 5):\n",
        "    for col in range(58, 60):\n",
        "        # Calcola le coordinate di inizio e fine per l'immagine corrente\n",
        "        x = col * output_width\n",
        "        y = row * output_height\n",
        "        x_end = x + output_width\n",
        "        y_end = y + output_height\n",
        "        \n",
        "        # Estrai l'immagine corrente\n",
        "        region = wsi.read_region((x, y), 0, (output_width, output_height))\n",
        "        image = cv2.cvtColor(np.array(region), cv2.COLOR_RGBA2BGR)\n",
        "        \n",
        "        is_white, p = is_mostly_white(image)\n",
        "        if not is_white:\n",
        "            if not ((col == num_cols-1) or (row == num_rows-1)):\n",
        "                x_h = x + output_width // 2 \n",
        "                x_v = x\n",
        "                x_d = x + output_width // 2 \n",
        "                y_h = y\n",
        "                y_v = y + output_height // 2\n",
        "                y_d = y + output_width // 2 \n",
        "                region_h = wsi.read_region((x_h, y_h), 0, (output_width, output_height))\n",
        "                region_v = wsi.read_region((x_v, y_v), 0, (output_width, output_height))\n",
        "                region_d = wsi.read_region((x_d, y_d), 0, (output_width, output_height))\n",
        "                image_h = cv2.cvtColor(np.array(region_h), cv2.COLOR_RGBA2BGR)\n",
        "                image_v = cv2.cvtColor(np.array(region_v), cv2.COLOR_RGBA2BGR)\n",
        "                image_d = cv2.cvtColor(np.array(region_d), cv2.COLOR_RGBA2BGR)\n",
        "                is_white_h, _ = is_mostly_white(image_h)\n",
        "                is_white_v, _ = is_mostly_white(image_v)\n",
        "                is_white_d, _ = is_mostly_white(image_d)\n",
        "                if not is_white_h:\n",
        "                    dataset.append(image_h)\n",
        "                    labels.append(label_image[y_h: y_h+output_height, x_h: x_h+output_width])\n",
        "                if not is_white_v:\n",
        "                    dataset.append(image_v)\n",
        "                    labels.append(label_image[y_v: y_v+output_height, x_v: x_v+output_width])\n",
        "                if not is_white_d:\n",
        "                    dataset.append(image_d)\n",
        "                    labels.append(label_image[y_d: y_d+output_height, x_d: x_d+output_width])\n",
        "            dataset.append(image)\n",
        "            labels.append(label_image[y:y_end, x: x_end])\n",
        "dataset = np.array(dataset)\n",
        "labels = np.array(labels)"
      ]
    },
    {
      "cell_type": "code",
      "execution_count": 58,
      "metadata": {
        "id": "bOuglic1ADkB"
      },
      "outputs": [
        {
          "data": {
            "text/plain": [
              "(16, 2000, 2000, 3)"
            ]
          },
          "execution_count": 58,
          "metadata": {},
          "output_type": "execute_result"
        }
      ],
      "source": [
        "dataset.shape"
      ]
    },
    {
      "cell_type": "code",
      "execution_count": null,
      "metadata": {
        "id": "7j3mcptuB-Pl"
      },
      "outputs": [],
      "source": [
        "for i in range(len(dataset)):\n",
        "  plt_image(dataset[i], labels[i])"
      ]
    },
    {
      "cell_type": "code",
      "execution_count": 14,
      "metadata": {
        "id": "G2RTOsd7Cddg"
      },
      "outputs": [],
      "source": [
        "np.save('dataset.npy', dataset)"
      ]
    },
    {
      "cell_type": "code",
      "execution_count": 11,
      "metadata": {},
      "outputs": [
        {
          "data": {
            "text/plain": [
              "(28, 2000, 2000, 3)"
            ]
          },
          "execution_count": 11,
          "metadata": {},
          "output_type": "execute_result"
        }
      ],
      "source": [
        "data = np.load('dataset.npy')\n",
        "data.shape"
      ]
    },
    {
      "cell_type": "code",
      "execution_count": 8,
      "metadata": {},
      "outputs": [
        {
          "data": {
            "text/plain": [
              "0"
            ]
          },
          "execution_count": 8,
          "metadata": {},
          "output_type": "execute_result"
        }
      ],
      "source": [
        "x = np.sum(data)\n",
        "x"
      ]
    },
    {
      "cell_type": "code",
      "execution_count": 24,
      "metadata": {},
      "outputs": [],
      "source": [
        "model = tf.keras.Sequential([\n",
        "  tf.keras.layers.RandomCrop(400, 400),\n",
        "  tf.keras.layers.RandomFlip(\"horizontal_and_vertical\"),\n",
        "  tf.keras.layers.RandomRotation(0.25),\n",
        "  tf.keras.layers.RandomBrightness((-0.2, 0.2))\n",
        "  tf.keras.layers.RandomContrast((-0.2, 0.2))\n",
        "  tf.keras.layers.Rescaling(1./255)\n",
        "])"
      ]
    },
    {
      "cell_type": "code",
      "execution_count": 14,
      "metadata": {},
      "outputs": [],
      "source": [
        "data = np.load(\"../dataset/slides/dataset.npy\")\n",
        "labels = np.load(\"../dataset/annotations/labels.npy\")"
      ]
    },
    {
      "cell_type": "code",
      "execution_count": 16,
      "metadata": {},
      "outputs": [
        {
          "data": {
            "text/plain": [
              "(400, 400, 3)"
            ]
          },
          "execution_count": 16,
          "metadata": {},
          "output_type": "execute_result"
        }
      ],
      "source": [
        "data[0].shape"
      ]
    },
    {
      "cell_type": "code",
      "execution_count": 98,
      "metadata": {},
      "outputs": [],
      "source": [
        "def plt_image_image(imageA, imageB):\n",
        "    fig, axs = plt.subplots(1, 2)\n",
        "    # Primo subplot: labels\n",
        "    axs[0].imshow(cv2.cvtColor(imageA, cv2.COLOR_BGR2RGB))\n",
        "    axs[0].axis('off')\n",
        "    axs[0].set_title(\"originale\")\n",
        "    # Secondo subplot: immagine\n",
        "    print(imageB.shape)\n",
        "    axs[1].imshow(cv2.cvtColor(imageB, cv2.COLOR_BGR2RGB))\n",
        "    axs[1].axis('off')\n",
        "    axs[1].set_title(\"modificata\")\n",
        "    # Mostra i subplot affiancati\n",
        "    plt.show()"
      ]
    },
    {
      "cell_type": "code",
      "execution_count": null,
      "metadata": {},
      "outputs": [],
      "source": [
        "\n",
        "for i in range(1):\n",
        "    image = data[352]\n",
        "    #grayscaled = np.array(tf.image.rgb_to_grayscale(image))\n",
        "    #plt_image_image(image, grayscaled)\n",
        "    ## TRANSFORMARE GRAYSCALED\n",
        "    #\n",
        "    #saturated = np.array(tf.image.adjust_saturation(image, 3))\n",
        "    #plt_image_image(image, saturated)\n",
        "    #\n",
        "    #bright = np.array(tf.image.adjust_brightness(image, 0.1))\n",
        "    #plt_image_image(image, bright)\n",
        "    #\n",
        "    #dark = np.array(tf.image.adjust_brightness(image, -0.2))\n",
        "    #plt_image_image(image, dark)\n",
        "    #\n",
        "    cropped = tf.image.central_crop(image, central_fraction=0.5)\n",
        "    #cropped = np.array(resize(cropped)).astype(int)\n",
        "    cropped = np.int32(cropped)\n",
        "\n",
        "    \n",
        "    plt_image_image(image, cropped)\n",
        "    #print(cropped.shape)\n",
        "    #dataset=np.append(dataset, [saturated, bright, cropped], axis=0)"
      ]
    },
    {
      "cell_type": "code",
      "execution_count": null,
      "metadata": {},
      "outputs": [],
      "source": [
        "for i in range(len(dataset)):\n",
        "    # Primo subplot: labels\n",
        "    # Secondo subplot: immagine\n",
        "    plt.imshow(cv2.cvtColor(dataset[i], cv2.COLOR_BGR2RGB))\n",
        "    # Mostra i subplot affiancati\n",
        "    plt.show()"
      ]
    },
    {
      "cell_type": "code",
      "execution_count": null,
      "metadata": {},
      "outputs": [],
      "source": [
        "import random\n",
        "\n",
        "data = np.load(\"../dataset/slides/dataset.npy\")\n",
        "labels = np.load(\"../dataset/annotations/labels.npy\")\n",
        "\n",
        "for i in range(100):\n",
        "    index = random.randint(0, len(data))\n",
        "    print(index)\n",
        "    plt_image(data[index], labels[index])"
      ]
    },
    {
      "cell_type": "code",
      "execution_count": 11,
      "metadata": {},
      "outputs": [],
      "source": [
        "data = np.load(\"../dataset/slides/dataset.npy\")\n",
        "labels = np.load(\"../dataset/annotations/labels.npy\")"
      ]
    },
    {
      "cell_type": "code",
      "execution_count": 12,
      "metadata": {},
      "outputs": [
        {
          "data": {
            "image/png": "[encoded data removed]",
            "text/plain": [
              "<Figure size 640x480 with 2 Axes>"
            ]
          },
          "metadata": {},
          "output_type": "display_data"
        }
      ],
      "source": [
        "plt_image_labels(data[743], labels[743])"
      ]
    },
    {
      "attachments": {},
      "cell_type": "markdown",
      "metadata": {},
      "source": [
        "# Tensorflow"
      ]
    },
    {
      "cell_type": "code",
      "execution_count": 111,
      "metadata": {},
      "outputs": [],
      "source": [
        "model = tf.keras.Sequential([\n",
        "  tf.keras.layers.RandomCrop(400, 400),\n",
        "  tf.keras.layers.RandomFlip(\"horizontal_and_vertical\"),\n",
        "  tf.keras.layers.RandomRotation(0.25),\n",
        "  tf.keras.layers.RandomBrightness((-0.2, 0.2)),\n",
        "  tf.keras.layers.RandomContrast(0.3),\n",
        "])\n",
        "\n",
        "rescaling = tf.keras.layers.Rescaling(1./255)"
      ]
    },
    {
      "cell_type": "code",
      "execution_count": null,
      "metadata": {},
      "outputs": [],
      "source": [
        "resize = tf.keras.Sequential([\n",
        "    tf.keras.layers.Resizing(400, 400),\n",
        "])\n",
        "\n"
      ]
    },
    {
      "cell_type": "code",
      "execution_count": 6,
      "metadata": {},
      "outputs": [],
      "source": [
        "data = np.load(\"../dataset/slides/dataset.npy\")\n",
        "labels = np.load(\"../dataset/annotations/labels.npy\")"
      ]
    },
    {
      "cell_type": "code",
      "execution_count": 105,
      "metadata": {},
      "outputs": [],
      "source": [
        "train_dataset = tf.data.Dataset.from_tensor_slices((data, labels))\n"
      ]
    },
    {
      "attachments": {},
      "cell_type": "markdown",
      "metadata": {},
      "source": [
        "## Data augmentation and Plot"
      ]
    },
    {
      "cell_type": "code",
      "execution_count": 5,
      "metadata": {},
      "outputs": [],
      "source": [
        "import imgaug.augmenters as iaa\n",
        "import imgaug as ia\n",
        "import imageio\n",
        "from imgaug.augmentables.segmaps import SegmentationMapsOnImage\n",
        "import numpy as np"
      ]
    },
    {
      "cell_type": "code",
      "execution_count": 17,
      "metadata": {},
      "outputs": [
        {
          "name": "stdout",
          "output_type": "stream",
          "text": [
            "(7271, 400, 400, 3)\n",
            "(7271, 400, 400)\n"
          ]
        }
      ],
      "source": [
        "print(data.shape)\n",
        "print(labels.shape)"
      ]
    },
    {
      "cell_type": "code",
      "execution_count": 246,
      "metadata": {},
      "outputs": [],
      "source": [
        "image = data[568]\n",
        "label = SegmentationMapsOnImage(labels[568], shape=data[1].shape)\n",
        "\n",
        "images_aug = []\n",
        "segmaps_aug = []\n",
        "da = data_augment()\n",
        "for _ in range(4):\n",
        "    images_aug_i, segmaps_aug_i = da(image=image, segmentation_maps=label)\n",
        "    images_aug.append(images_aug_i)\n",
        "    segmaps_aug.append(segmaps_aug_i)\n",
        "    \n",
        "cells = []\n",
        "for image_aug, segmap_aug in zip(images_aug, segmaps_aug):\n",
        "    #cells.append(image)                                         # column 1\n",
        "    cells.append(label.draw_on_image(image)[0])                  # column 2\n",
        "    #cells.append(image_aug)                                     # column 3\n",
        "    cells.append(segmap_aug.draw_on_image(image_aug)[0])         # column 4\n",
        "    cells.append(segmap_aug.draw(size=image_aug.shape[:2])[0])   # column 5\n",
        "\n",
        "# Convert cells to a grid image and save.\n",
        "grid_image = ia.draw_grid(cells, cols=3)\n",
        "imageio.imwrite(\"example_segmaps.jpg\", grid_image)"
      ]
    },
    {
      "cell_type": "code",
      "execution_count": 6,
      "metadata": {},
      "outputs": [],
      "source": [
        "\n",
        "def data_augment():\n",
        "    return iaa.Sequential([\n",
        "        iaa.Dropout((0, 0.05)),      # drop 5% or 20% of all pixels\n",
        "        # rotate by -45 to 45 degrees (affects segmaps)\n",
        "        iaa.Affine(rotate=(-30, 30)),\n",
        "        iaa.Fliplr(0.5),\n",
        "        iaa.Crop(percent=(0, 0.2), keep_size=True),\n",
        "        iaa.WithBrightnessChannels(iaa.Add((-50, 50))),\n",
        "        iaa.Grayscale(alpha=(0.0, 0.5)),\n",
        "        iaa.GammaContrast((0.5, 2.0), per_channel=True),\n",
        "        iaa.PiecewiseAffine(scale=(0.01, 0.1)),\n",
        "    ], random_order=True)\n"
      ]
    },
    {
      "attachments": {},
      "cell_type": "markdown",
      "metadata": {},
      "source": [
        "## SegNet"
      ]
    },
    {
      "cell_type": "code",
      "execution_count": 7,
      "metadata": {},
      "outputs": [],
      "source": [
        "from sklearn.model_selection import train_test_split\n",
        "import tensorflow as tf\n",
        "import numpy as np"
      ]
    },
    {
      "cell_type": "code",
      "execution_count": 5,
      "metadata": {},
      "outputs": [],
      "source": [
        "tf.compat.v1.enable_eager_execution()"
      ]
    },
    {
      "cell_type": "code",
      "execution_count": 8,
      "metadata": {},
      "outputs": [],
      "source": [
        "da = data_augment()"
      ]
    },
    {
      "cell_type": "code",
      "execution_count": 13,
      "metadata": {},
      "outputs": [
        {
          "data": {
            "text/plain": [
              "(7271, 400, 400, 3)"
            ]
          },
          "execution_count": 13,
          "metadata": {},
          "output_type": "execute_result"
        }
      ],
      "source": [
        "data = np.load(\"../dataset/slides/dataset.npy\")\n",
        "labels = np.load(\"../dataset/annotations/labels.npy\")\n",
        "data.shape"
      ]
    },
    {
      "cell_type": "code",
      "execution_count": 21,
      "metadata": {},
      "outputs": [],
      "source": [
        "labelsx =[SegmentationMapsOnImage(label, shape=data[1].shape) for label in labels[0:50]]\n",
        "x = np.array([segmap.get_arr() for segmap in labelsx])"
      ]
    },
    {
      "cell_type": "code",
      "execution_count": 22,
      "metadata": {},
      "outputs": [
        {
          "data": {
            "text/plain": [
              "(50, 400, 400)"
            ]
          },
          "execution_count": 22,
          "metadata": {},
          "output_type": "execute_result"
        }
      ],
      "source": [
        "x.shape"
      ]
    },
    {
      "cell_type": "code",
      "execution_count": 23,
      "metadata": {},
      "outputs": [
        {
          "name": "stdout",
          "output_type": "stream",
          "text": [
            "(7321, 400, 400, 3)\n",
            "(7321, 400, 400)\n"
          ]
        }
      ],
      "source": [
        "labelsx = [SegmentationMapsOnImage(label, shape=data[1].shape) for label in labels[0:50]]\n",
        "datax = data[0:50].copy()\n",
        "for _ in range(1):\n",
        "    images, labels_a = da(images=datax[0:50], segmentation_maps=labelsx)\n",
        "    data = np.append(data, images, axis = 0)\n",
        "    labels = np.append(labels, np.array([label.get_arr() for label in labels_a]), axis = 0)\n",
        "print(data.shape)\n",
        "print(labels.shape)\n",
        "    \n"
      ]
    },
    {
      "cell_type": "code",
      "execution_count": 9,
      "metadata": {},
      "outputs": [
        {
          "name": "stdout",
          "output_type": "stream",
          "text": [
            "Metal device set to: Apple M1\n",
            "\n",
            "systemMemory: 8.00 GB\n",
            "maxCacheSize: 2.67 GB\n",
            "\n"
          ]
        }
      ],
      "source": [
        "image_train, image_test, label_train, label_test = train_test_split(data, labels, test_size=0.25, random_state=42)\n",
        "train_data = tf.data.Dataset.from_tensor_slices((image_train, label_train))"
      ]
    },
    {
      "cell_type": "code",
      "execution_count": 265,
      "metadata": {},
      "outputs": [],
      "source": [
        "image_train, image_test, label_train, label_test = train_test_split(data[0:50], labels[0:50], test_size=0.25, random_state=42)"
      ]
    },
    {
      "cell_type": "code",
      "execution_count": 266,
      "metadata": {},
      "outputs": [],
      "source": [
        "train_data = tf.data.Dataset.from_tensor_slices((image_train, label_train))"
      ]
    },
    {
      "cell_type": "code",
      "execution_count": 263,
      "metadata": {},
      "outputs": [],
      "source": [
        "x= np.concatenate([x for x, y in train_data], axis=0)"
      ]
    },
    {
      "cell_type": "code",
      "execution_count": null,
      "metadata": {},
      "outputs": [],
      "source": [
        "da = data_augment()\n",
        "\n",
        "def process_d (image, label):\n",
        "    sess = tf.Session()\n",
        "    with sess.as_default():\n",
        "        tensor_array = image.eval(session=sess)\n",
        "        print(tensor_array)\n",
        "    #image, label = da(image=image, segmentation_maps=label)\n",
        "    #return tf.convert_to_tensor(image), tf.convert_to_tensor(label)\n",
        "\n",
        "inputs = train_data.map(process_d, num_parallel_calls=tf.data.AUTOTUNE)"
      ]
    },
    {
      "cell_type": "code",
      "execution_count": null,
      "metadata": {},
      "outputs": [],
      "source": []
    }
  ],
  "metadata": {
    "colab": {
      "provenance": []
    },
    "kernelspec": {
      "display_name": "Python 3",
      "language": "python",
      "name": "python3"
    },
    "language_info": {
      "codemirror_mode": {
        "name": "ipython",
        "version": 3
      },
      "file_extension": ".py",
      "mimetype": "text/x-python",
      "name": "python",
      "nbconvert_exporter": "python",
      "pygments_lexer": "ipython3",
      "version": "3.10.10"
    },
    "orig_nbformat": 4
  },
  "nbformat": 4,
  "nbformat_minor": 0
}
